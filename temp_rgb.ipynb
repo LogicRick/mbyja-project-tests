{
  "nbformat": 4,
  "nbformat_minor": 0,
  "metadata": {
    "colab": {
      "provenance": [],
      "authorship_tag": "ABX9TyNzlvssFHR7SInxvTeiBsL3",
      "include_colab_link": true
    },
    "kernelspec": {
      "name": "python3",
      "display_name": "Python 3"
    },
    "language_info": {
      "name": "python"
    }
  },
  "cells": [
    {
      "cell_type": "markdown",
      "metadata": {
        "id": "view-in-github",
        "colab_type": "text"
      },
      "source": [
        "<a href=\"https://colab.research.google.com/github/LogicRick/mbyja-project-tests/blob/main/temp_rgb.ipynb\" target=\"_parent\"><img src=\"https://colab.research.google.com/assets/colab-badge.svg\" alt=\"Open In Colab\"/></a>"
      ]
    },
    {
      "cell_type": "code",
      "execution_count": 17,
      "metadata": {
        "colab": {
          "base_uri": "https://localhost:8080/",
          "height": 265
        },
        "id": "BYFiO36L_zj8",
        "outputId": "ec190a24-b703-450e-fce5-f908b40d496e"
      },
      "outputs": [
        {
          "output_type": "display_data",
          "data": {
            "text/plain": [
              "<Figure size 432x288 with 1 Axes>"
            ],
            "image/png": "[encoded data removed]"
          },
          "metadata": {
            "needs_background": "light"
          }
        }
      ],
      "source": [
        "# Note:\n",
        "# Red values below 6600 K are always 255.\n",
        "# Blue values below 2000 K are always 0.\n",
        "# Blue values above 6500 K are always 255.\n",
        "# Using the formulas, the squared error is approx. 0.98.\n",
        "import math\n",
        "from matplotlib import pyplot as plt\n",
        "def conversion_temp_rgb(temp_k):\n",
        "    \n",
        "### 1. Algorithm scope: Between 1000 and 40000.\n",
        "    if temp_k < 1000: \n",
        "        temp_k = 1000\n",
        "    elif temp_k > 40000:\n",
        "        temp_k = 40000\n",
        "\n",
        "    norm_temp = temp_k / 100.0 # Normalize data.\n",
        "    \n",
        "### Red values:\n",
        "    if norm_temp <= 66:\n",
        "        red = 255\n",
        "    else:\n",
        "        temp_red = 329.698727446 * math.pow(norm_temp - 60, -0.1332047592) # From Vendian.\n",
        "        if temp_red < 0:\n",
        "            red = 0\n",
        "        elif temp_red > 255:\n",
        "            red = 255\n",
        "        else:\n",
        "            red = temp_red\n",
        "    \n",
        "### Green values: \n",
        "    if norm_temp <= 66: # For purposes of fitting a curve to the data (squared error).\n",
        "        temp_green = 99.4708025861 * math.log(norm_temp) - 161.1195681661 # From Vendian.\n",
        "        if temp_green < 0:\n",
        "            green = 0\n",
        "        elif temp_green > 255:\n",
        "            green = 255\n",
        "        else:\n",
        "            green = temp_green\n",
        "    else:\n",
        "        temp_green = 288.1221695283 * math.pow(norm_temp - 60, -0.0755148492) # From Vendian.\n",
        "        if temp_green < 0:\n",
        "            green = 0\n",
        "        elif temp_green > 255:\n",
        "            green = 255\n",
        "        else:\n",
        "            green = temp_green\n",
        "    \n",
        "### Blue values: \n",
        "    if norm_temp >= 66:\n",
        "        blue = 255\n",
        "    elif norm_temp <= 19:\n",
        "        blue = 0\n",
        "    else:\n",
        "        temp_blue = 138.5177312231 * math.log(norm_temp - 10) - 305.0447927307 # From Vendian.\n",
        "        if temp_blue < 0:\n",
        "            blue = 0\n",
        "        elif temp_blue > 255:\n",
        "            blue = 255\n",
        "        else:\n",
        "            blue = temp_blue\n",
        "    \n",
        "    return red, green, blue\n",
        "    \n",
        "step_size = 100\n",
        "for i in range(0, 10000, step_size):\n",
        "    color = list(map(lambda div: div/255.0, conversion_temp_rgb(i))) + [1]\n",
        "    plt.plot((i, i), (0, 1), linewidth=step_size/2.0, linestyle=\"-\", color=color)\n",
        "\n",
        "plt.show()  "
      ]
    }
  ]
}